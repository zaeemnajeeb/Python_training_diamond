{
 "cells": [
  {
   "cell_type": "markdown",
   "metadata": {},
   "source": [
    "<div style=\"color:red;background-color:black\">\n",
    "Diamond Light Source\n",
    "<br style=\"color:red;background-color:antiquewhite\"><h1>Python Language: Classes</h1>  \n",
    "\n",
    "©2000-20 Chris Seddon \n",
    "</div>"
   ]
  },
  {
   "cell_type": "markdown",
   "metadata": {},
   "source": [
    "## 1\n",
    "In this tutorial we will create a single class called Point; we will use this class to create 3 Point objects.  \n",
    "Each of the Point objects will be able to move around a screen:\n",
    "\n",
    "<img src=\"resources/Slide1.jpg\"/>\n",
    "\n",
    "We will define the class with 3 functions (common parlance is to call these functions \"methods\"):\n",
    "* initialize\n",
    "* moveBy\n",
    "* display  \n",
    "\n",
    "The \"initialize\" method will define the initial coordinates of the given point and give the point a name.  To simplify the code, the intention is to avoid writing any graphics software, so instead the \"display\" method will simply print out the name and position of the point.  The \"moveBy\" method will change the point's position.\n",
    "\n",
    "Of course we will need to keep track of each object's position and name; each object will use a dictionary for this.  Data stored in a dictionary are called attributes of the object.\n",
    "\n",
    "Finally, when we are writing code for problems such as this, it is important not to write too much code in one go.  It's much better to develop code incrementally.  With this in mind let's create a minimal Point class and flush out the details later:"
   ]
  },
  {
   "cell_type": "code",
   "execution_count": null,
   "metadata": {},
   "outputs": [],
   "source": [
    "class Point:\n",
    "    pass\n",
    "\n",
    "print(Point)"
   ]
  },
  {
   "cell_type": "markdown",
   "metadata": {},
   "source": [
    "## 2\n",
    "The above code creates the Point class;  \"\\__main__\" is the name of the class's module (this is discussed elsewhere).  \n",
    "Note that classes are conventionally declared starting with a capital letter.  \n",
    "\n",
    "Next we want to be able to instantiate 3 objects of this class.  In several computer languages object creation is along the lines: \n",
    "<pre>p = new Point()</pre>\n",
    "However in Python we are even more succinct:"
   ]
  },
  {
   "cell_type": "code",
   "execution_count": null,
   "metadata": {},
   "outputs": [],
   "source": [
    "p1 = Point()\n",
    "p2 = Point()\n",
    "p3 = Point()\n",
    "\n",
    "print(p1)\n",
    "print(p2)\n",
    "print(p3)"
   ]
  },
  {
   "cell_type": "markdown",
   "metadata": {},
   "source": [
    "## 3\n",
    "Be careful not to confuse the above object instantiation with a function call.  Unfortunately, they both use the same syntax; hence the convention that function names start with a lower case letter and classes start with an upper case letter.  \n",
    "\n",
    "Now, let's add an \"initialize\" method to the class (again a minimal implementation).  \n",
    "\n",
    "We will need to pass an initial value of x and y and give the point a name.  Therefore the \"initialize\" method will need 3 parameters.  However we also need to pass a further parameter that points at the object's dictionary.  This last parameter is called \"self\" and must be the first parameter of the method:"
   ]
  },
  {
   "cell_type": "code",
   "execution_count": null,
   "metadata": {
    "slideshow": {
     "slide_type": "slide"
    }
   },
   "outputs": [],
   "source": [
    "class Point:\n",
    "    def initialize(self, x0, y0, name):\n",
    "        pass\n",
    "\n",
    "p1 = Point()\n",
    "p2 = Point()\n",
    "p3 = Point()"
   ]
  },
  {
   "cell_type": "markdown",
   "metadata": {},
   "source": [
    "## 4\n",
    "Let's see if we can call the \"initialize\" method for each point with some sample data:"
   ]
  },
  {
   "cell_type": "code",
   "execution_count": null,
   "metadata": {
    "slideshow": {
     "slide_type": "slide"
    }
   },
   "outputs": [],
   "source": [
    "class Point:\n",
    "    def initialize(self, x0, y0, name):\n",
    "        pass\n",
    "\n",
    "p1 = Point()\n",
    "p2 = Point()\n",
    "p3 = Point()\n",
    "Point.initialize(p1, 100, 150, 'point-p1')\n",
    "Point.initialize(p2, 400, 450, 'point-p2')\n",
    "Point.initialize(p3, 250, 750, 'point-p3')"
   ]
  },
  {
   "cell_type": "markdown",
   "metadata": {},
   "source": [
    "## 5\n",
    "Well that seems to work, so now we are ready to add code to \"initialize\".  The code must take the 3 inputs \"x0\", \"y0\" and \"name\" and copy them into the object's dictionary pointed at by \"self\".  The 3 entries in the dictionary will be:\n",
    "\n",
    "<pre>self.x\n",
    "self.y\n",
    "self.name</pre>\n",
    "\n",
    "Realize \"x0\", \"y0\" and \"name\" are local variables and will be deleted at the end of the \"initialize\" method.  The copies will be stored safely in the object's dictionary and will not get deleted.  In fact the object's dictionary stays alive while there exists a pointer to the dictionary.  Precisely what \"p1\", \"p2\" and \"p3\" are achieving."
   ]
  },
  {
   "cell_type": "code",
   "execution_count": null,
   "metadata": {
    "slideshow": {
     "slide_type": "slide"
    }
   },
   "outputs": [],
   "source": [
    "class Point:\n",
    "    def initialize(self, x0, y0, name):\n",
    "        self.x = x0\n",
    "        self.y = y0\n",
    "        self.name = name\n",
    "\n",
    "p1 = Point()\n",
    "p2 = Point()\n",
    "p3 = Point()\n",
    "p1.initialize(100, 150, 'point-p1')\n",
    "p2.initialize(400, 450, 'point-p2')\n",
    "p3.initialize(250, 750, 'point-p3')"
   ]
  },
  {
   "cell_type": "markdown",
   "metadata": {
    "slideshow": {
     "slide_type": "subslide"
    }
   },
   "source": [
    "## 6\n",
    "Now we can add code for the \"display\" method.  This method merely prints out the contents of each object's dictionary.  Recall that \"self\" points to the object's dictionary and must be passed as the first parameter:"
   ]
  },
  {
   "cell_type": "code",
   "execution_count": null,
   "metadata": {
    "slideshow": {
     "slide_type": "slide"
    }
   },
   "outputs": [],
   "source": [
    "class Point:\n",
    "    def initialize(self, x0, y0, name):\n",
    "        self.x = x0\n",
    "        self.y = y0\n",
    "        self.name = name\n",
    "    def display(self):\n",
    "        print(self.name,self.x,self.y)\n",
    "p1 = Point()\n",
    "p2 = Point()\n",
    "p3 = Point()\n",
    "p1.initialize(100, 150, 'point-p1')\n",
    "p2.initialize(400, 450, 'point-p2')\n",
    "p3.initialize(250, 750, 'point-p3')\n",
    "p1.display()\n",
    "p2.display()\n",
    "p3.display()"
   ]
  },
  {
   "cell_type": "markdown",
   "metadata": {
    "slideshow": {
     "slide_type": "subslide"
    }
   },
   "source": [
    "## 7\n",
    "Trivially, we could improve the program's output by tiding using an f-string in \"display\":"
   ]
  },
  {
   "cell_type": "code",
   "execution_count": null,
   "metadata": {
    "slideshow": {
     "slide_type": "slide"
    }
   },
   "outputs": [],
   "source": [
    "class Point:\n",
    "    def initialize(self, x0, y0, name):\n",
    "        self.x = x0\n",
    "        self.y = y0\n",
    "        self.name = name\n",
    "    def display(self):\n",
    "        print(f\"{self.name} is at [{self.x},{self.y}]\")\n",
    "p1 = Point()\n",
    "p2 = Point()\n",
    "p3 = Point()\n",
    "p1.initialize(100, 150, 'point-p1')\n",
    "p2.initialize(400, 450, 'point-p2')\n",
    "p3.initialize(250, 750, 'point-p3')\n",
    "p1.display()\n",
    "p2.display()\n",
    "p3.display()"
   ]
  },
  {
   "cell_type": "markdown",
   "metadata": {},
   "source": [
    "## 8\n",
    "To complete the class we need to write the \"moveBy\" method.  This method will change the values in the object's dictionary.  As always, we need to pass \"self\" as the first parameter.  \n",
    "\n",
    "I think I'll call the \"moveBy\" method before \"display\"; that way we can see the results of moving the objects:"
   ]
  },
  {
   "cell_type": "code",
   "execution_count": null,
   "metadata": {
    "slideshow": {
     "slide_type": "slide"
    }
   },
   "outputs": [],
   "source": [
    "class Point:\n",
    "    def initialize(self, x0, y0, name):\n",
    "        self.x = x0\n",
    "        self.y = y0\n",
    "        self.name = name\n",
    "    def display(self):\n",
    "        print(f\"{self.name} is at [{self.x},{self.y}]\")\n",
    "    def moveBy(self, dx, dy):\n",
    "        self.x += dx\n",
    "        self.y += dy\n",
    "p1 = Point()\n",
    "p2 = Point()\n",
    "p3 = Point()\n",
    "p1.initialize(100, 150, 'point-p1')\n",
    "p2.initialize(400, 450, 'point-p2')\n",
    "p3.initialize(250, 750, 'point-p3')\n",
    "p1.moveBy(1,1)\n",
    "p2.moveBy(1,1)\n",
    "p3.moveBy(1,1)\n",
    "p1.display()\n",
    "p2.display()\n",
    "p3.display()"
   ]
  },
  {
   "cell_type": "markdown",
   "metadata": {},
   "source": [
    "## 9\n",
    "Now we have a complete class.  All classes you'll ever write work in a similar manner: treat this as a template for all your other classes.  \n",
    "\n",
    "Let's take a look at a memory diagram of our class.  \n",
    "\n",
    "Note that the \"Point\" is an indirect pointer to the class dictionary.  This pointer actual points to an intermediate structure that contains the fields:\n",
    "<pre>__bases__\n",
    "__dict__</pre>\n",
    "The \"\\__bases__\" pointer in the class points to a list of classes from which we are inheriting (multiple inheritance).  However, we are not going to discuss inheritance further in this tutorial.  \n",
    "The \"\\__dict__\" pointers point directly at the class and object's dictionaries.  \n",
    "The \"\\__class__\" pointer links the object to its class.\n",
    "\n",
    "<img src=\"resources/Slide2.jpg\"/>"
   ]
  },
  {
   "cell_type": "markdown",
   "metadata": {},
   "source": [
    "Now we can see that the notation\n",
    "<pre>self.x</pre>\n",
    "is a shorthand for\n",
    "<pre>self.__dict__['x']</pre>\n",
    "and similarily for the other two attributes.  In fact we could rewite the whole example using this more verbose notation:"
   ]
  },
  {
   "cell_type": "code",
   "execution_count": null,
   "metadata": {
    "slideshow": {
     "slide_type": "slide"
    }
   },
   "outputs": [],
   "source": [
    "class Point:\n",
    "    def initialize(self, x0, y0, name):\n",
    "        self.__dict__['x'] = x0\n",
    "        self.__dict__['y'] = y0\n",
    "        self.__dict__['name'] = name\n",
    "    def display(self):\n",
    "        print(f\"{self.__dict__['name']} is at [{self.__dict__['x']},{self.__dict__['y']}]\")\n",
    "    def moveBy(self, dx, dy):\n",
    "        self.__dict__['x'] += dx\n",
    "        self.__dict__['y'] += dy\n",
    "p1 = Point()\n",
    "p2 = Point()\n",
    "p3 = Point()\n",
    "p1.initialize(100, 150, 'point-p1')\n",
    "p2.initialize(400, 450, 'point-p2')\n",
    "p3.initialize(250, 750, 'point-p3')\n",
    "p1.moveBy(1,1)\n",
    "p2.moveBy(1,1)\n",
    "p3.moveBy(1,1)\n",
    "p1.display()\n",
    "p2.display()\n",
    "p3.display()"
   ]
  },
  {
   "cell_type": "markdown",
   "metadata": {},
   "source": [
    "## 10\n",
    "Well it's much easier to use the simplified notation, so we'll use that from now on.\n",
    "\n",
    "As a further point, note that it would be wise to make a small change to our design.  At present it is possible to start using objects before they are properly initialised.  So for example, we might call \"moveBy\" before \"initialize\".  \n",
    "\n",
    "Look what happens:"
   ]
  },
  {
   "cell_type": "code",
   "execution_count": null,
   "metadata": {
    "slideshow": {
     "slide_type": "slide"
    }
   },
   "outputs": [],
   "source": [
    "class Point:\n",
    "    def initialize(self, x0, y0, name):\n",
    "        self.x = x0\n",
    "        self.y = y0\n",
    "        self.name = name\n",
    "    def display(self):\n",
    "        print(f\"{self.name} is at [{self.x},{self.y}]\")\n",
    "    def moveBy(self, dx, dy):\n",
    "        self.x += dx\n",
    "        self.y += dy\n",
    "p1 = Point()\n",
    "p2 = Point()\n",
    "p3 = Point()\n",
    "p1.moveBy(1,1)\n",
    "p2.moveBy(1,1)\n",
    "p3.moveBy(1,1)\n",
    "p1.initialize(100, 150, 'point-p1')\n",
    "p2.initialize(400, 450, 'point-p2')\n",
    "p3.initialize(250, 750, 'point-p3')\n",
    "p1.display()\n",
    "p2.display()\n",
    "p3.display()"
   ]
  },
  {
   "cell_type": "markdown",
   "metadata": {},
   "source": [
    "## 11\n",
    "The above code is trying to access 'x' in the object's dictionary before it has been set up.  To avoid problems like this, Python allows objects to be initialised at the same time as they are created.  We do this by providing a special method called a constructor (CTOR).  \n",
    "\n",
    "In Python, the constructor must be called \"\\__init__\" with the double underscrores indicating that this is a special method.  We can reuse the code from the \"initialize\" method in \"\\__init__\" and dispense with our \"initialize\" method."
   ]
  },
  {
   "cell_type": "code",
   "execution_count": null,
   "metadata": {
    "slideshow": {
     "slide_type": "slide"
    }
   },
   "outputs": [],
   "source": [
    "class Point:\n",
    "    # CTOR\n",
    "    def __init__(self, x0, y0, name):\n",
    "        self.x = x0\n",
    "        self.y = y0\n",
    "        self.name = name\n",
    "    def display(self):\n",
    "        print(f\"{self.name} is at [{self.x},{self.y}]\")\n",
    "    def moveBy(self, dx, dy):\n",
    "        self.x += dx\n",
    "        self.y += dy\n",
    "\n",
    "p1 = Point(100, 150, 'point-p1') # constructor\n",
    "p2 = Point(400, 450, 'point-p2') # constructor\n",
    "p3 = Point(250, 750, 'point-p3') # constructor\n",
    "p1.moveBy(1,1)\n",
    "p2.moveBy(1,1)\n",
    "p3.moveBy(1,1)\n",
    "p1.display()\n",
    "p2.display()\n",
    "p3.display()"
   ]
  },
  {
   "cell_type": "markdown",
   "metadata": {},
   "source": [
    "## 12\n",
    "Note that most computer languages allow multiple constructors to be defined.  However this is not possible in Python.  To see why, realise that a method is just a function and a function name is a pointer; the function pointer can only point at one function object.  \n",
    "\n",
    "This is a consequence of the way functions are designed in two parts in Python.  The same applies to \"function name overloading\": some languages allow methods with identical names, but different number of parameters.  Function name overloading is not possible in Python for the same reason.\n",
    "\n",
    "More concerning is the fact that Python lets you access the object's dictionary outside the class.  Accepted practice is that you should only interact with the object through its methods.  So although you can interact directly with the object's dictionary - don't!\n",
    "\n",
    "Why is this bad practice?  \n",
    "\n",
    "Code that uses a class can be many, many lines long or even spread over several files.  In the case of a class placed in a library this usage could be even more widespread.  It is a proven fact that software changes over time and the change is usually to do with the data side of an object, rather than its methods.  If you never access the object's dictionary directly and only use methods to change the dictionary, this will localise any changes that need to be made to your software.  On the other hand, if you do access the object's dictionary directly in many places and in many files, making changes to you code will involve searching for all such references - a tedius and error prone task.  We say such code is brittle and obviously undesirable.  So stick with accepted practice of always using methods.\n",
    "\n",
    "Just for the record, the following code works even though it is bad practice:"
   ]
  },
  {
   "cell_type": "code",
   "execution_count": null,
   "metadata": {
    "slideshow": {
     "slide_type": "slide"
    }
   },
   "outputs": [],
   "source": [
    "class Point:\n",
    "    # CTOR\n",
    "    def __init__(self, x0, y0, name):\n",
    "        self.x = x0\n",
    "        self.y = y0\n",
    "        self.name = name\n",
    "    def display(self):\n",
    "        print(f\"{self.name} is at [{self.x},{self.y}]\")\n",
    "    def moveBy(self, dx, dy):\n",
    "        self.x += dx\n",
    "        self.y += dy\n",
    "\n",
    "p1 = Point(100, 150, 'point-p1') # constructor\n",
    "p1.x += 1\n",
    "p1.y += 1\n",
    "print(f\"{p1.name} is at [{p1.x},{p1.y}]\")"
   ]
  },
  {
   "cell_type": "markdown",
   "metadata": {},
   "source": [
    "## 13\n",
    "The final thing I want to discuss is that sometimes attibutes don't really belong to a single object, but instead are shared between all objects.  Take the case of keeping track of how many objects we have created.  In the examples above we have 3 objects and 3 object dictionaries.  Of course, we could have many more objects.  It doesn't make sense to store this information in every object's dictionary.  Such information should be placed in the class's dictionary.  Thus the \"count\" of objects is a class or shared attribute, rather than an object attribute.  \n",
    "\n",
    "This is how you define and initialise a class attribute:\n",
    "<pre>class Point:\n",
    "    count = 0\n",
    "    ....\n",
    "</pre>\n",
    "\n",
    "The count can be incremented each time an object is created, i.e. in its constructor:\n",
    "<pre>def __init__(self, ...):\n",
    "    Point.count += 1\n",
    "</pre>\n",
    "Note that we have to say \"Point.count\" to distinguish from a local variable called \"count\"."
   ]
  },
  {
   "cell_type": "code",
   "execution_count": null,
   "metadata": {
    "slideshow": {
     "slide_type": "slide"
    }
   },
   "outputs": [],
   "source": [
    "class Point:\n",
    "    count = 0\n",
    "    def __init__(self, x0, y0, name):\n",
    "        Point.count += 1\n",
    "        self.x = x0\n",
    "        self.y = y0\n",
    "        self.name = name\n",
    "    def display(self):\n",
    "        print(f\"{self.name} is at [{self.x},{self.y}]\")\n",
    "    def moveBy(self, dx, dy):\n",
    "        self.x += dx\n",
    "        self.y += dy\n",
    "\n",
    "print(Point.count)\n",
    "p1 = Point(100, 150, 'point-p1') # constructor\n",
    "p2 = Point(400, 450, 'point-p2') # constructor\n",
    "p3 = Point(250, 750, 'point-p3') # constructor\n",
    "print(Point.count)"
   ]
  },
  {
   "cell_type": "markdown",
   "metadata": {},
   "source": [
    "## 14\n",
    "That works, but we are accesing the class dictionary directly.  That will never do - we need to provide a method:\n",
    "<pre>\n",
    "def getCount():\n",
    "    return Point.count\n",
    "</pre>\n",
    "Note that this time the method is interacting with the class dictionary, so it would be wrong to use \"self\".  This is about the only time a method doesn't have \"self\" as its first parameter.\n",
    "\n",
    "Now for the final diagram and the full code:\n",
    "<img src=\"resources/Slide3.jpg\"/>"
   ]
  },
  {
   "cell_type": "code",
   "execution_count": null,
   "metadata": {
    "slideshow": {
     "slide_type": "slide"
    }
   },
   "outputs": [],
   "source": [
    "class Point:\n",
    "    count = 0\n",
    "    def getCount():\n",
    "        return Point.count\n",
    "    def __init__(self, x0, y0, name):\n",
    "        Point.count += 1\n",
    "        self.x = x0\n",
    "        self.y = y0\n",
    "        self.name = name\n",
    "    def display(self):\n",
    "        print(f\"{self.name} is at [{self.x},{self.y}]\")\n",
    "    def moveBy(self, dx, dy):\n",
    "        self.x += dx\n",
    "        self.y += dy\n",
    "\n",
    "print(Point.getCount())\n",
    "p1 = Point(100, 150, 'point-p1') # constructor\n",
    "p2 = Point(400, 450, 'point-p2') # constructor\n",
    "p3 = Point(250, 750, 'point-p3') # constructor\n",
    "print(Point.getCount())"
   ]
  }
 ],
 "metadata": {
  "kernelspec": {
   "display_name": "Python 3 (ipykernel)",
   "language": "python",
   "name": "python3"
  },
  "language_info": {
   "codemirror_mode": {
    "name": "ipython",
    "version": 3
   },
   "file_extension": ".py",
   "mimetype": "text/x-python",
   "name": "python",
   "nbconvert_exporter": "python",
   "pygments_lexer": "ipython3",
   "version": "3.9.7"
  }
 },
 "nbformat": 4,
 "nbformat_minor": 4
}
